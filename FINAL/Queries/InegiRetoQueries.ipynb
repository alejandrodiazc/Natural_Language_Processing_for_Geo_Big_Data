{
 "cells": [
  {
   "cell_type": "code",
   "execution_count": 1,
   "id": "5059e591-0d32-47ee-83f9-d1247182d10c",
   "metadata": {},
   "outputs": [
    {
     "name": "stderr",
     "output_type": "stream",
     "text": [
      "/opt/anaconda3/envs/bigdata/lib/python3.8/site-packages/tpot/builtins/__init__.py:36: UserWarning: Warning: optional dependency `torch` is not available. - skipping import of NN models.\n",
      "  warnings.warn(\"Warning: optional dependency `torch` is not available. - skipping import of NN models.\")\n"
     ]
    }
   ],
   "source": [
    "import findspark\n",
    "findspark.init()\n",
    "import shapely\n",
    "import pandas as pd\n",
    "import geopandas as gpd\n",
    "from pyspark.sql import SparkSession\n",
    "from pyspark import SparkContext\n",
    "from pyspark import SparkConf\n",
    "from sedona.register import SedonaRegistrator\n",
    "from sedona.utils import SedonaKryoRegistrator, KryoSerializer\n",
    "from tpot import TPOTClassifier\n",
    "from sklearn.datasets import load_iris\n",
    "from sklearn.model_selection import train_test_split\n",
    "from  pyspark.sql.functions import rand\n",
    "from pyspark.sql.functions import lower,col,lit\n",
    "from sedona.utils import SedonaKryoRegistrator, KryoSerializer\n",
    "from  pyspark.sql.functions import rand\n",
    "from pyspark.sql.functions import lower,col,lit"
   ]
  },
  {
   "cell_type": "code",
   "execution_count": 2,
   "id": "4793ee0e-1348-4eb6-873a-bad268c63674",
   "metadata": {},
   "outputs": [],
   "source": [
    "import requests #for querying inegis database"
   ]
  },
  {
   "cell_type": "code",
   "execution_count": 3,
   "id": "70c345d4-f5f4-4328-bed4-bded7268af86",
   "metadata": {},
   "outputs": [
    {
     "name": "stdout",
     "output_type": "stream",
     "text": [
      "22/11/28 14:47:54 WARN Utils: Your hostname, MacBook-Air-de-Antonio-3.local resolves to a loopback address: 127.0.0.1; using 10.22.135.81 instead (on interface en0)\n",
      "22/11/28 14:47:54 WARN Utils: Set SPARK_LOCAL_IP if you need to bind to another address\n",
      ":: loading settings :: url = jar:file:/opt/anaconda3/envs/bigdata/lib/python3.8/site-packages/pyspark/jars/ivy-2.5.0.jar!/org/apache/ivy/core/settings/ivysettings.xml\n"
     ]
    },
    {
     "name": "stderr",
     "output_type": "stream",
     "text": [
      "Ivy Default Cache set to: /Users/antoniopatjane/.ivy2/cache\n",
      "The jars for the packages stored in: /Users/antoniopatjane/.ivy2/jars\n",
      "org.apache.sedona#sedona-python-adapter-3.0_2.12 added as a dependency\n",
      "org.datasyslab#geotools-wrapper added as a dependency\n",
      ":: resolving dependencies :: org.apache.spark#spark-submit-parent-bc43d7ff-71be-4a5a-b4cd-dc3b807d4ee9;1.0\n",
      "\tconfs: [default]\n",
      "\tfound org.apache.sedona#sedona-python-adapter-3.0_2.12;1.2.0-incubating in central\n",
      "\tfound org.locationtech.jts#jts-core;1.18.0 in central\n",
      "\tfound org.wololo#jts2geojson;0.16.1 in central\n",
      "\tfound org.apache.sedona#sedona-core-3.0_2.12;1.2.0-incubating in central\n",
      "\tfound org.scala-lang.modules#scala-collection-compat_2.12;2.5.0 in central\n",
      "\tfound org.apache.sedona#sedona-sql-3.0_2.12;1.2.0-incubating in central\n",
      "\tfound org.datasyslab#geotools-wrapper;1.1.0-25.2 in central\n",
      ":: resolution report :: resolve 129ms :: artifacts dl 4ms\n",
      "\t:: modules in use:\n",
      "\torg.apache.sedona#sedona-core-3.0_2.12;1.2.0-incubating from central in [default]\n",
      "\torg.apache.sedona#sedona-python-adapter-3.0_2.12;1.2.0-incubating from central in [default]\n",
      "\torg.apache.sedona#sedona-sql-3.0_2.12;1.2.0-incubating from central in [default]\n",
      "\torg.datasyslab#geotools-wrapper;1.1.0-25.2 from central in [default]\n",
      "\torg.locationtech.jts#jts-core;1.18.0 from central in [default]\n",
      "\torg.scala-lang.modules#scala-collection-compat_2.12;2.5.0 from central in [default]\n",
      "\torg.wololo#jts2geojson;0.16.1 from central in [default]\n",
      "\t---------------------------------------------------------------------\n",
      "\t|                  |            modules            ||   artifacts   |\n",
      "\t|       conf       | number| search|dwnlded|evicted|| number|dwnlded|\n",
      "\t---------------------------------------------------------------------\n",
      "\t|      default     |   7   |   0   |   0   |   0   ||   7   |   0   |\n",
      "\t---------------------------------------------------------------------\n",
      ":: retrieving :: org.apache.spark#spark-submit-parent-bc43d7ff-71be-4a5a-b4cd-dc3b807d4ee9\n",
      "\tconfs: [default]\n",
      "\t0 artifacts copied, 7 already retrieved (0kB/3ms)\n"
     ]
    },
    {
     "name": "stdout",
     "output_type": "stream",
     "text": [
      "22/11/28 14:47:54 WARN NativeCodeLoader: Unable to load native-hadoop library for your platform... using builtin-java classes where applicable\n"
     ]
    },
    {
     "name": "stderr",
     "output_type": "stream",
     "text": [
      "Setting default log level to \"WARN\".\n",
      "To adjust logging level use sc.setLogLevel(newLevel). For SparkR, use setLogLevel(newLevel).\n"
     ]
    },
    {
     "name": "stdout",
     "output_type": "stream",
     "text": [
      "22/11/28 14:47:55 WARN Utils: Service 'SparkUI' could not bind on port 4040. Attempting port 4041.\n",
      "22/11/28 14:47:55 WARN Utils: Service 'SparkUI' could not bind on port 4041. Attempting port 4042.\n"
     ]
    },
    {
     "name": "stderr",
     "output_type": "stream",
     "text": [
      "                                                                                \r"
     ]
    },
    {
     "data": {
      "text/plain": [
       "True"
      ]
     },
     "execution_count": 3,
     "metadata": {},
     "output_type": "execute_result"
    }
   ],
   "source": [
    "spark = SparkSession. \\\n",
    "builder. \\\n",
    "appName('appName'). \\\n",
    "config(\"spark.serializer\", KryoSerializer.getName). \\\n",
    "config(\"spark.executor.memory\", \"5g\"). \\\n",
    "config(\"spark.driver.memory\", \"10g\"). \\\n",
    "config('spark.driver.maxResultSize', '5g'). \\\n",
    "config(\"spark.kryo.registrator\", SedonaKryoRegistrator.getName). \\\n",
    "config('spark.jars.packages',\n",
    "           'org.apache.sedona:sedona-python-adapter-3.0_2.12:1.2.0-incubating,org.datasyslab:geotools-wrapper:1.1.0-25.2'). \\\n",
    "getOrCreate()\n",
    "SedonaRegistrator.registerAll(spark)"
   ]
  },
  {
   "cell_type": "code",
   "execution_count": 4,
   "id": "ca542654-2a87-4e89-bddb-8739da4235f6",
   "metadata": {},
   "outputs": [],
   "source": [
    "BD_MANZANAS = spark.read.parquet(f\"/Users/antoniopatjane/Downloads/19_NL.parquet\")\n",
    "#BD_MANZANAS.printSchema()"
   ]
  },
  {
   "cell_type": "code",
   "execution_count": 5,
   "id": "51cbb92e-629e-4ef7-8709-6ff0f1b010a7",
   "metadata": {},
   "outputs": [],
   "source": [
    "#list of the database selected variables\n",
    "var_viv = [\"CVEGEO\", \"VIV0\", \"VIV1\", \"VIV7\", \"VIV8\", \"VIV9\", \"VIV10\", \"VIV14\", \"VIV16\", \"VIV25\", \"VIV26\", \"VIV27\", \"VIV28\", \"VIV29\", \"VIV31\", \"VIV32\", \"VIV33\", \"VIV34\", \"VIV38\", \"VIV39\", \"VIV40\", \"VIV41\", \"VIV42\", \"VIV81\", \"VIV37_R\", \"VIV13_R\", \"VIV80_R\",\"VIV81_R\", \"VIV82_R\",\"VIV83_R\", \"VIV84_R\", \"HOGAR1\", \"HOGAR4\", \"HOGAR7\", \"HOGAR13\", \"HOGAR16\",\"HOGAR19\", \"HOGAR22\"]\n",
    "var_pob = [\"POB11_R\", \"POB17_R\", \"POB42_R\", \"POB84_R\", \"MIG7_R\",\"INDI1_R\", \"DISC1_R\",\"EDU49_R\",\"SCONY1_R\", \"SCONY4_R\", \"SCONY7_R\", \"RELIG1_R\", \"RELIG2_R\",\"EDU25\", \"EDU28\", \"SALUD1\", \"SALUD2\", \"SALUD7\", \"SALUD8\"]\n",
    "var_ec = [\"ECO1_R\", \"ECO28_R\", \"ECO34_R\"]"
   ]
  },
  {
   "cell_type": "code",
   "execution_count": 6,
   "id": "dff2f36a-48d3-4bb6-b1ff-2d1447c24bfb",
   "metadata": {},
   "outputs": [],
   "source": [
    "#building the demographic database\n",
    "geo_db = BD_MANZANAS.select(var_viv)\n",
    "geo_db = geo_db.join(BD_MANZANAS.select(var_pob))\n",
    "geo_db = geo_db.join(BD_MANZANAS.select(var_ec))"
   ]
  },
  {
   "cell_type": "code",
   "execution_count": 7,
   "id": "24edef54-ea81-422e-8488-33a0b99a3e9f",
   "metadata": {},
   "outputs": [
    {
     "name": "stdout",
     "output_type": "stream",
     "text": [
      "22/11/28 14:47:59 WARN package: Truncated the string representation of a plan since it was too large. This behavior can be adjusted by setting 'spark.sql.debug.maxToStringFields'.\n",
      "root\n",
      " |-- CVEGEO: string (nullable = true)\n",
      " |-- VIV0: double (nullable = true)\n",
      " |-- VIV1: double (nullable = true)\n",
      " |-- VIV7: double (nullable = true)\n",
      " |-- VIV8: double (nullable = true)\n",
      " |-- VIV9: double (nullable = true)\n",
      " |-- VIV10: double (nullable = true)\n",
      " |-- VIV14: double (nullable = true)\n",
      " |-- VIV16: double (nullable = true)\n",
      " |-- VIV25: double (nullable = true)\n",
      " |-- VIV26: double (nullable = true)\n",
      " |-- VIV27: double (nullable = true)\n",
      " |-- VIV28: double (nullable = true)\n",
      " |-- VIV29: double (nullable = true)\n",
      " |-- VIV31: double (nullable = true)\n",
      " |-- VIV32: double (nullable = true)\n",
      " |-- VIV33: double (nullable = true)\n",
      " |-- VIV34: double (nullable = true)\n",
      " |-- VIV38: double (nullable = true)\n",
      " |-- VIV39: double (nullable = true)\n",
      " |-- VIV40: double (nullable = true)\n",
      " |-- VIV41: double (nullable = true)\n",
      " |-- VIV42: double (nullable = true)\n",
      " |-- VIV81: double (nullable = true)\n",
      " |-- VIV37_R: double (nullable = true)\n",
      " |-- VIV13_R: double (nullable = true)\n",
      " |-- VIV80_R: double (nullable = true)\n",
      " |-- VIV81_R: double (nullable = true)\n",
      " |-- VIV82_R: double (nullable = true)\n",
      " |-- VIV83_R: double (nullable = true)\n",
      " |-- VIV84_R: double (nullable = true)\n",
      " |-- HOGAR1: double (nullable = true)\n",
      " |-- HOGAR4: double (nullable = true)\n",
      " |-- HOGAR7: double (nullable = true)\n",
      " |-- HOGAR13: double (nullable = true)\n",
      " |-- HOGAR16: double (nullable = true)\n",
      " |-- HOGAR19: double (nullable = true)\n",
      " |-- HOGAR22: double (nullable = true)\n",
      " |-- POB11_R: double (nullable = true)\n",
      " |-- POB17_R: double (nullable = true)\n",
      " |-- POB42_R: double (nullable = true)\n",
      " |-- POB84_R: double (nullable = true)\n",
      " |-- MIG7_R: double (nullable = true)\n",
      " |-- INDI1_R: double (nullable = true)\n",
      " |-- DISC1_R: double (nullable = true)\n",
      " |-- EDU49_R: double (nullable = true)\n",
      " |-- SCONY1_R: double (nullable = true)\n",
      " |-- SCONY4_R: double (nullable = true)\n",
      " |-- SCONY7_R: double (nullable = true)\n",
      " |-- RELIG1_R: double (nullable = true)\n",
      " |-- RELIG2_R: double (nullable = true)\n",
      " |-- EDU25: double (nullable = true)\n",
      " |-- EDU28: double (nullable = true)\n",
      " |-- SALUD1: double (nullable = true)\n",
      " |-- SALUD2: double (nullable = true)\n",
      " |-- SALUD7: double (nullable = true)\n",
      " |-- SALUD8: double (nullable = true)\n",
      " |-- ECO1_R: double (nullable = true)\n",
      " |-- ECO28_R: double (nullable = true)\n",
      " |-- ECO34_R: double (nullable = true)\n",
      "\n"
     ]
    }
   ],
   "source": [
    "geo_db.createOrReplaceTempView(\"geo_db\")\n",
    "geo_db.printSchema()"
   ]
  },
  {
   "cell_type": "code",
   "execution_count": 195,
   "id": "f650cef5-dd9b-44c0-a9aa-8b229556f475",
   "metadata": {},
   "outputs": [
    {
     "data": {
      "text/plain": [
       "DataFrame[id: bigint, clee: string, nom_estab: string, raz_social: string, codigo_act: string, nombre_act: string, per_ocu: string, tipo_vial: string, nom_vial: string, tipo_v_e_1: string, nom_v_e_1: string, tipo_v_e_2: string, nom_v_e_2: string, tipo_v_e_3: string, nom_v_e_3: string, numero_ext: string, letra_ext: string, edificio: string, edificio_e: string, numero_int: string, letra_int: string, tipo_asent: string, nomb_asent: string, tipoCenCom: string, nom_CenCom: string, num_local: string, cod_postal: string, cve_ent: string, entidad: string, cve_mun: string, municipio: string, cve_loc: string, localidad: string, ageb: string, manzana: string, telefono: string, correoelec: string, www: string, tipoUniEco: string, latitud: double, longitud: double, fecha_alta: string, geometry: udt]"
      ]
     },
     "execution_count": 195,
     "metadata": {},
     "output_type": "execute_result"
    }
   ],
   "source": [
    "# Read Nuevo Leon economic units file\n",
    "BD_DENUE = spark.read.parquet(f\"/Users/antoniopatjane/Downloads/19.parquet\")\n",
    "BD_DENUE.createOrReplaceTempView(\"denue\")\n",
    "BD_DENUE.cache()"
   ]
  },
  {
   "cell_type": "code",
   "execution_count": 24,
   "id": "f1ee227c-8531-4b5c-af9d-8b732e1b9947",
   "metadata": {},
   "outputs": [],
   "source": [
    "#Variables DENUE\n",
    "denue_var = [\"id\", \"clee\", \"nom_estab\", \"codigo_act\", \"cod_postal\",\"cve_mun\", \"municipio\", \"longitud\", \"latitud\", \"geometry\"]"
   ]
  },
  {
   "cell_type": "code",
   "execution_count": 196,
   "id": "9210c7d3-bcbe-45c0-820e-8a5a5dc3b652",
   "metadata": {},
   "outputs": [],
   "source": [
    "denue_nl = BD_DENUE.select(denue_var)\n",
    "denue_nl.createOrReplaceTempView(\"denue_nl\")"
   ]
  },
  {
   "cell_type": "code",
   "execution_count": 26,
   "id": "e09d44a7-b5b5-4853-87eb-fd60ae1fbd46",
   "metadata": {},
   "outputs": [
    {
     "name": "stdout",
     "output_type": "stream",
     "text": [
      "root\n",
      " |-- id: long (nullable = true)\n",
      " |-- clee: string (nullable = true)\n",
      " |-- nom_estab: string (nullable = true)\n",
      " |-- raz_social: string (nullable = true)\n",
      " |-- codigo_act: string (nullable = true)\n",
      " |-- nombre_act: string (nullable = true)\n",
      " |-- per_ocu: string (nullable = true)\n",
      " |-- tipo_vial: string (nullable = true)\n",
      " |-- nom_vial: string (nullable = true)\n",
      " |-- tipo_v_e_1: string (nullable = true)\n",
      " |-- nom_v_e_1: string (nullable = true)\n",
      " |-- tipo_v_e_2: string (nullable = true)\n",
      " |-- nom_v_e_2: string (nullable = true)\n",
      " |-- tipo_v_e_3: string (nullable = true)\n",
      " |-- nom_v_e_3: string (nullable = true)\n",
      " |-- numero_ext: string (nullable = true)\n",
      " |-- letra_ext: string (nullable = true)\n",
      " |-- edificio: string (nullable = true)\n",
      " |-- edificio_e: string (nullable = true)\n",
      " |-- numero_int: string (nullable = true)\n",
      " |-- letra_int: string (nullable = true)\n",
      " |-- tipo_asent: string (nullable = true)\n",
      " |-- nomb_asent: string (nullable = true)\n",
      " |-- tipoCenCom: string (nullable = true)\n",
      " |-- nom_CenCom: string (nullable = true)\n",
      " |-- num_local: string (nullable = true)\n",
      " |-- cod_postal: string (nullable = true)\n",
      " |-- cve_ent: string (nullable = true)\n",
      " |-- entidad: string (nullable = true)\n",
      " |-- cve_mun: string (nullable = true)\n",
      " |-- municipio: string (nullable = true)\n",
      " |-- cve_loc: string (nullable = true)\n",
      " |-- localidad: string (nullable = true)\n",
      " |-- ageb: string (nullable = true)\n",
      " |-- manzana: string (nullable = true)\n",
      " |-- telefono: string (nullable = true)\n",
      " |-- correoelec: string (nullable = true)\n",
      " |-- www: string (nullable = true)\n",
      " |-- tipoUniEco: string (nullable = true)\n",
      " |-- latitud: double (nullable = true)\n",
      " |-- longitud: double (nullable = true)\n",
      " |-- fecha_alta: string (nullable = true)\n",
      " |-- geometry: geometry (nullable = true)\n",
      "\n"
     ]
    }
   ],
   "source": [
    "BD_DENUE.printSchema()\n",
    "#https://www.inegi.org.mx/rnm/index.php/catalog/668/variable-groups/VG3"
   ]
  },
  {
   "cell_type": "code",
   "execution_count": 186,
   "id": "5f6d0881-f497-4b76-8909-7f2d4402df42",
   "metadata": {},
   "outputs": [],
   "source": [
    "todas_var = [\"ECO1_R\", \"ECO28_R\", \"ECO34_R\", \"POB11_R\", \"POB17_R\", \"POB42_R\", \"POB84_R\", \"MIG7_R\",\"INDI1_R\", \"DISC1_R\",\"EDU49_R\",\"SCONY1_R\", \"SCONY4_R\", \"SCONY7_R\", \"RELIG1_R\", \"RELIG2_R\",\"EDU25\", \n",
    "             \"EDU28\", \"SALUD1\", \"SALUD2\", \"SALUD7\", \"SALUD8\",\"CVEGEO\", \"VIV0\", \"VIV1\", \"VIV7\", \"VIV8\", \"VIV9\", \"VIV10\", \"VIV14\", \"VIV16\", \"VIV25\", \"VIV26\", \"VIV27\", \"VIV28\", \"VIV29\", \"VIV31\", \"VIV32\", \"VIV33\", \"VIV34\", \"VIV38\", \"VIV39\", \"VIV40\", \"VIV41\", \"VIV42\", \"VIV81\", \"VIV37_R\", \"VIV13_R\", \"VIV80_R\",\"VIV81_R\", \"VIV82_R\",\"VIV83_R\", \"VIV84_R\", \"HOGAR1\", \"HOGAR4\", \"HOGAR7\", \"HOGAR13\", \"HOGAR16\",\"HOGAR19\", \"HOGAR22\"]\n"
   ]
  },
  {
   "cell_type": "code",
   "execution_count": 255,
   "id": "7e068e01-ec5d-4b5f-b03f-a3375b11a144",
   "metadata": {},
   "outputs": [],
   "source": [
    "#Selected Economic Activities key codes\n",
    "restaurantes = [\"722511\", \"722512\", \"722513\", \"722514\", \"722515\"]\n",
    "negocios = {\"NEGOCIO_TIENDITA\": \"461110\", \"NEGOCIO_ROPA\": \"463211\", \"NEGOCIO_TECNOLOGIA\": \"466211\", \"NEGOCIO_RESTAURANTE\": \"722\", \"NEGOCIO_PAPELERIA\":\"465311\", \"NEGOCIO_GIMNASIO\": \"713943\", \"NEGOCIO_ESTETICA\": \"812110\"} \n",
    "codigos_negocios = (\"461110\", \"463211\", \"466211\", \"722511\", \"722512\", \"722513\", \"722514\", \"722515\", \"465311\", \"713943\", \"812110\")\n"
   ]
  },
  {
   "cell_type": "code",
   "execution_count": 198,
   "id": "d68b60fb-3e70-4822-a639-11fb48c1158b",
   "metadata": {},
   "outputs": [],
   "source": [
    "#build the table with selected economic activities\n",
    "negocios_total = spark.sql(\"\"\"SELECT *\n",
    "                            FROM denue_nl\n",
    "                            WHERE denue_nl.codigo_act IN {}\"\"\".format(codigos_negocios))"
   ]
  },
  {
   "cell_type": "code",
   "execution_count": null,
   "id": "bf92a897-33e7-4801-8772-5998c1aff825",
   "metadata": {},
   "outputs": [],
   "source": [
    "#negocios_total.show(1)\n",
    "#if you want to visualize an example of the variables in the table"
   ]
  },
  {
   "cell_type": "code",
   "execution_count": 29,
   "id": "15ecb199-ddcc-4620-9409-b3d778aae644",
   "metadata": {},
   "outputs": [
    {
     "data": {
      "text/plain": [
       "48154"
      ]
     },
     "execution_count": 29,
     "metadata": {},
     "output_type": "execute_result"
    }
   ],
   "source": [
    "#total count of business' in the database\n",
    "negocios_total.count()"
   ]
  },
  {
   "cell_type": "code",
   "execution_count": 30,
   "id": "174ab9d3-fec8-4e2e-98d3-30cda3233988",
   "metadata": {},
   "outputs": [],
   "source": [
    "negocios_total.createOrReplaceTempView(\"negocios1\")"
   ]
  },
  {
   "cell_type": "code",
   "execution_count": 31,
   "id": "0e8617d3-472a-4c70-870a-e821a6186308",
   "metadata": {},
   "outputs": [
    {
     "name": "stdout",
     "output_type": "stream",
     "text": [
      "+-------+--------------------+-------------------+----------+----------+-------+--------------------+-------------+-----------+--------------------+\n",
      "|     id|                clee|          nom_estab|codigo_act|cod_postal|cve_mun|           municipio|     longitud|    latitud|            geometry|\n",
      "+-------+--------------------+-------------------+----------+----------+-------+--------------------+-------------+-----------+--------------------+\n",
      "|8731270|19018461110013661...|    ABARROTES CHIKY|    461110|     66003|    018|              García|-100.57530191|25.80513946|POINT (2642201.68...|\n",
      "|3004671|19021461110017381...|    ABARROTES CHILO|    461110|     66084|    021|    General Escobedo| -100.3853926|25.83100522|POINT (2661124.01...|\n",
      "|7704463|19039461110080011...|    ABARROTES CHILO|    461110|     64270|    039|           Monterrey|-100.33439389| 25.7249145|POINT (2666348.87...|\n",
      "|3034921|19039461110018541...|    ABARROTES CHICO|    461110|     64720|    039|           Monterrey|-100.31654273|25.66026732|POINT (2668215.30...|\n",
      "|3028061|19046461110012071...| ABARROTES CHISPITA|    461110|     66440|    046|San Nicolás de lo...| -100.2422284|25.74063905|POINT (2675532.01...|\n",
      "|2936676|19039461110023561...|  ABARROTES CHIRRIS|    461110|     64240|    039|           Monterrey|-100.33663439| 25.7356979|POINT (2666111.33...|\n",
      "|2967511|19039461110069371...|    ABARROTES CHITO|    461110|     64148|    039|           Monterrey| -100.3579292|25.73380186|POINT (2663987.22...|\n",
      "|2942192|19041461110000731...|    ABARROTES CHITO|    461110|     66655|    041|           Pesquería|-100.09668001|25.82308507|POINT (2689945.09...|\n",
      "|8390894|19031461110020231...| ABARROTES CHIQUITO|    461110|     67286|    031|              Juárez|-100.16625961|25.62857308|POINT (2683275.87...|\n",
      "|3041128|19039461110030941...|  ABARROTES CHIQUIS|    461110|     64988|    039|           Monterrey|-100.24420162|25.59108127|POINT (2675536.84...|\n",
      "|7309807|19021461110030331...|  ABARROTES CHIQUIS|    461110|     66050|    021|    General Escobedo|-100.40140307|25.80106253|POINT (2659563.17...|\n",
      "|3028643|19049461110000191...|   ABARROTES CHINDO|    461110|     67320|    049|            Santiago|-100.13373409|25.39928203|POINT (2686855.41...|\n",
      "|8633613|19046461110019441...|    ABARROTES CHINA|    461110|     66440|    046|San Nicolás de lo...|-100.24243487|25.75115121|POINT (2675497.19...|\n",
      "|2942351|19006461110025641...|  ABARROTES CHIQUIS|    461110|     66643|    006|             Apodaca|-100.13859268|25.76264128|POINT (2685849.08...|\n",
      "|8633063|19006461110029141...|ABARROTES CHIQUILIN|    461110|     66613|    006|             Apodaca|-100.25611741|25.81648447|POINT (2674043.43...|\n",
      "|8713848|19046461110018421...|     ABARROTES CHUY|    461110|     66430|    046|San Nicolás de lo...| -100.2769556|25.74863782|POINT (2672053.71...|\n",
      "|3030875|19046461110010611...|     ABARROTES CHUY|    461110|     66470|    046|San Nicolás de lo...|-100.24327548|25.72957127|POINT (2675442.40...|\n",
      "|7318308|19037461110000741...|     ABARROTES CHUY|    461110|     65100|    037|                Mina|-100.54304899| 26.0042692|POINT (2645197.72...|\n",
      "|3004649|19021461110017361...|     ABARROTES CHUY|    461110|     66085|    021|    General Escobedo|-100.39867147|25.81568695|POINT (2659817.81...|\n",
      "|2946726|19006461110021701...|ABARROTES CHRISTIAN|    461110|     66614|    006|             Apodaca|  -100.241374|25.81365857|POINT (2675518.60...|\n",
      "+-------+--------------------+-------------------+----------+----------+-------+--------------------+-------------+-----------+--------------------+\n",
      "only showing top 20 rows\n",
      "\n"
     ]
    }
   ],
   "source": [
    "negocios_total.show()"
   ]
  },
  {
   "cell_type": "code",
   "execution_count": 19,
   "id": "69f25918-d764-4b5e-8e18-b12e24341a1e",
   "metadata": {},
   "outputs": [],
   "source": [
    "import firebase_admin\n",
    "\n",
    "cred = firebase_admin.credentials.Certificate(\"inegi-497e7-firebase-adminsdk-s4h6a-19e076bdc5.json\")\n",
    "default_app = firebase_admin.initialize_app(cred, {\n",
    "\t'databaseURL': 'https://inegi-497e7-default-rtdb.firebaseio.com/'\n",
    "\t})"
   ]
  },
  {
   "cell_type": "code",
   "execution_count": 319,
   "id": "c3b6d882-9dbe-4b95-829d-2d8f369c0760",
   "metadata": {},
   "outputs": [
    {
     "name": "stdout",
     "output_type": "stream",
     "text": [
      "NEGOCIO_GIMNASIO\n"
     ]
    }
   ],
   "source": [
    "from firebase_admin import db\n",
    "\n",
    "ref_neg = db.reference(\"/Busqueda1/CodigoNegocio\")\n",
    "neg = ref_neg.get()\n",
    "neg = neg[0]\n",
    "print(neg)"
   ]
  },
  {
   "cell_type": "code",
   "execution_count": 320,
   "id": "afabd12f-7e0b-4978-b6b9-d8f15b6bb8a7",
   "metadata": {},
   "outputs": [
    {
     "name": "stdout",
     "output_type": "stream",
     "text": [
      "64000\n"
     ]
    }
   ],
   "source": [
    "ref_pos = db.reference(\"/Busqueda1/CP\")\n",
    "pos = ref_pos.get()\n",
    "pos = pos[0]\n",
    "print(pos)"
   ]
  },
  {
   "cell_type": "code",
   "execution_count": 321,
   "id": "547e204f-4d7c-4388-a0a1-ff8325a6cd9a",
   "metadata": {},
   "outputs": [],
   "source": [
    "#Getting location data\n",
    "#esta es la parte que se tiene que conectar con el chatbot !!!???\n",
    "\n",
    "zip_code= pos\n",
    "act_cod = negocios[neg]"
   ]
  },
  {
   "cell_type": "code",
   "execution_count": 322,
   "id": "633f0d01-ead0-41b7-9e66-08278d02f24e",
   "metadata": {},
   "outputs": [
    {
     "name": "stdout",
     "output_type": "stream",
     "text": [
      "13\n"
     ]
    }
   ],
   "source": [
    "#print nearby similar business info\n",
    "resultado = spark.sql(\"\"\" SELECT *\n",
    "                        FROM negocios1\n",
    "                        WHERE negocios1.codigo_act = {} AND negocios1.cod_postal = {} \"\"\".format(act_cod, zip_code)) \n",
    "business_number = resultado.count()\n",
    "print(business_number)"
   ]
  },
  {
   "cell_type": "code",
   "execution_count": 334,
   "id": "b56ab547-1c70-4aaf-a2be-1e0070e58b72",
   "metadata": {},
   "outputs": [],
   "source": [
    "ref  = db.reference(\"/Busqueda1\")\n",
    "ref.update({\"NumNegocios\": business_number})"
   ]
  },
  {
   "cell_type": "code",
   "execution_count": 324,
   "id": "16793696-f3d5-4262-8995-d1872eb8b022",
   "metadata": {},
   "outputs": [],
   "source": [
    "negocio_count= spark.sql(\"\"\"SELECT codigo_act, count(codigo_act)\n",
    "  FROM negocios1 \n",
    " WHERE cod_postal  = {}\n",
    " GROUP by codigo_act \"\"\".format(zip_code))"
   ]
  },
  {
   "cell_type": "code",
   "execution_count": 325,
   "id": "af7a5506-d727-495f-ad2f-f925e5857caf",
   "metadata": {},
   "outputs": [
    {
     "name": "stdout",
     "output_type": "stream",
     "text": [
      "+----------+-----------------+\n",
      "|codigo_act|count(codigo_act)|\n",
      "+----------+-----------------+\n",
      "|    461110|              120|\n",
      "|    465311|               38|\n",
      "|    466211|               44|\n",
      "|    463211|              662|\n",
      "|    722514|              253|\n",
      "|    722513|               82|\n",
      "|    713943|               13|\n",
      "|    722515|              108|\n",
      "|    722511|              278|\n",
      "|    722512|               47|\n",
      "|    812110|              269|\n",
      "+----------+-----------------+\n",
      "\n"
     ]
    }
   ],
   "source": [
    "negocio_count.show()"
   ]
  },
  {
   "cell_type": "code",
   "execution_count": 326,
   "id": "59de5e0b-18a7-4881-a142-59612788ac2c",
   "metadata": {},
   "outputs": [],
   "source": [
    "#def invertir_diccionario(diccionario):\n",
    " #return{valor:clave for clave, valor in diccionario.items()}\n",
    "\n",
    "#new_dict = {}\n",
    "\n",
    "\n",
    "#for org_key in restaurantes:\n",
    "#\tnew_dict[org_key] = 'NEGOCIO_RESTAURANTE'\n",
    "\n",
    "\n",
    "#TempNeg = invertir_diccionario(negocios)\n",
    "#invNegocios = {**TempNeg,**new_dict}"
   ]
  },
  {
   "cell_type": "code",
   "execution_count": 327,
   "id": "4c1313a8-1dc9-41f8-a5a1-e2df530ed230",
   "metadata": {},
   "outputs": [],
   "source": [
    "invNegocios = {'461110': 'NEGOCIO_TIENDITA', '463211': 'NEGOCIO_ROPA', '466211': 'NEGOCIO_TECNOLOGIA', '722': 'NEGOCIO_RESTAURANTE', '465311': 'NEGOCIO_PAPELERIA', '713943': 'NEGOCIO_GIMNASIO', '812110': 'NEGOCIO_ESTETICA', '722511': 'NEGOCIO_RESTAURANTE', '722512': 'NEGOCIO_RESTAURANTE', '722513': 'NEGOCIO_RESTAURANTE', '722514': 'NEGOCIO_RESTAURANTE', '722515': 'NEGOCIO_RESTAURANTE'}"
   ]
  },
  {
   "cell_type": "code",
   "execution_count": 328,
   "id": "c4934a46-d04d-471e-bb59-e25f3cbfe1d0",
   "metadata": {},
   "outputs": [],
   "source": [
    "cuentaTotal = negocio_count.toPandas()"
   ]
  },
  {
   "cell_type": "code",
   "execution_count": 329,
   "id": "caf67e25-86f6-46b0-ac4a-98847bd5aa66",
   "metadata": {},
   "outputs": [],
   "source": [
    "cuentaTotal.replace({\"codigo_act\": invNegocios}, inplace=True)\n",
    "negoMax = cuentaTotal.max()\n",
    "negoMin = cuentaTotal.min()\n"
   ]
  },
  {
   "cell_type": "code",
   "execution_count": 330,
   "id": "b682e8d2-5f4c-4db5-9046-c7d298d311d7",
   "metadata": {},
   "outputs": [
    {
     "data": {
      "text/html": [
       "<div>\n",
       "<style scoped>\n",
       "    .dataframe tbody tr th:only-of-type {\n",
       "        vertical-align: middle;\n",
       "    }\n",
       "\n",
       "    .dataframe tbody tr th {\n",
       "        vertical-align: top;\n",
       "    }\n",
       "\n",
       "    .dataframe thead th {\n",
       "        text-align: right;\n",
       "    }\n",
       "</style>\n",
       "<table border=\"1\" class=\"dataframe\">\n",
       "  <thead>\n",
       "    <tr style=\"text-align: right;\">\n",
       "      <th></th>\n",
       "      <th>codigo_act</th>\n",
       "      <th>count(codigo_act)</th>\n",
       "    </tr>\n",
       "  </thead>\n",
       "  <tbody>\n",
       "    <tr>\n",
       "      <th>0</th>\n",
       "      <td>NEGOCIO_TIENDITA</td>\n",
       "      <td>120</td>\n",
       "    </tr>\n",
       "    <tr>\n",
       "      <th>1</th>\n",
       "      <td>NEGOCIO_PAPELERIA</td>\n",
       "      <td>38</td>\n",
       "    </tr>\n",
       "    <tr>\n",
       "      <th>2</th>\n",
       "      <td>NEGOCIO_TECNOLOGIA</td>\n",
       "      <td>44</td>\n",
       "    </tr>\n",
       "    <tr>\n",
       "      <th>3</th>\n",
       "      <td>NEGOCIO_ROPA</td>\n",
       "      <td>662</td>\n",
       "    </tr>\n",
       "    <tr>\n",
       "      <th>4</th>\n",
       "      <td>NEGOCIO_RESTAURANTE</td>\n",
       "      <td>253</td>\n",
       "    </tr>\n",
       "  </tbody>\n",
       "</table>\n",
       "</div>"
      ],
      "text/plain": [
       "            codigo_act  count(codigo_act)\n",
       "0     NEGOCIO_TIENDITA                120\n",
       "1    NEGOCIO_PAPELERIA                 38\n",
       "2   NEGOCIO_TECNOLOGIA                 44\n",
       "3         NEGOCIO_ROPA                662\n",
       "4  NEGOCIO_RESTAURANTE                253"
      ]
     },
     "execution_count": 330,
     "metadata": {},
     "output_type": "execute_result"
    }
   ],
   "source": [
    "cuentaTotal.head()"
   ]
  },
  {
   "cell_type": "code",
   "execution_count": 331,
   "id": "329fc149-5f1d-46c8-bc5b-75a2b4c31cdc",
   "metadata": {},
   "outputs": [],
   "source": [
    "ref  = db.reference(\"/Busqueda1\")\n",
    "\n",
    "nombrNegocioMax = negoMax[0]\n",
    "ref.update({\"NegociosMas\": nombrNegocioMax})\n",
    "numMax = negoMax[1]\n",
    "ref.update({\"NegociosMasNum\": str(numMax)})\n",
    "\n",
    "\n",
    "nombrNegocioMin = negoMin[0]\n",
    "ref.update({\"NegociosMenos\": nombrNegocioMin})\n",
    "numMin = negoMin[1]\n",
    "ref.update({\"NegociosMenosNum\": str(numMin)})"
   ]
  },
  {
   "cell_type": "markdown",
   "id": "5e8f4d26-707f-4960-a909-aa3620d814a5",
   "metadata": {},
   "source": [
    "1. buscar las caracteristicas del lugar ya sea con un join de la columna de manzanas entre la denue y la otra oooo con el zip code \n",
    "2. unir el automl+geo"
   ]
  },
  {
   "cell_type": "code",
   "execution_count": 335,
   "id": "a0c7befa-613c-44dd-a682-d472f644e967",
   "metadata": {},
   "outputs": [],
   "source": [
    "import time\n",
    "\n",
    "time.sleep(40)\n",
    "\n",
    "ref = db.reference(\"/\")\n",
    "\n",
    "import json\n",
    "\n",
    "with open(\"busquedas.json\", \"r\") as f:\n",
    "\tfile_contents = json.load(f)\n",
    "ref.set(file_contents)"
   ]
  },
  {
   "cell_type": "markdown",
   "id": "a8ef52c4-0567-4801-b31c-684d4207d8d0",
   "metadata": {},
   "source": [
    "Rests_Nacional = spark.sql(\"\"\"SELECT \n",
    "                                  1 AS klass,\n",
    "                                  id, clee,\n",
    "                                  LOWER(nom_estab) nom_estab ,\n",
    "                                  cve_ent,\n",
    "                                  per_ocu,\n",
    "                                  geometry,\n",
    "                                  cod_postal,\n",
    "                                  codigo_act\n",
    "                            FROM denue\n",
    "                            WHERE denue.codigo_act LIKE '722%' \"\"\")#in ('721111','722511', '722512','722513', '722515')\"\"\")\n",
    "count1 = Rests_Nacional.count() #datos en la primera clase\n",
    "#count1"
   ]
  },
  {
   "cell_type": "markdown",
   "id": "f711615c-2ab4-4fb0-ab20-7bc0978ad27d",
   "metadata": {},
   "source": [
    "#Seleccionar el resto de los negocios\n",
    "otros_Nacional = BD_DENUE.filter(BD_DENUE.codigo_act != \"722%\")\\\n",
    "                     .select(lit(\"2\").alias(\"klass\"),\\\n",
    "                      col(\"id\"),\\\n",
    "                      col(\"clee\"),\\\n",
    "                      lower(col(\"nom_estab\")).alias(\"nom_estab\"),\\\n",
    "                      col(\"cve_ent\"),\\\n",
    "                      col(\"per_ocu\"),\\\n",
    "                      col(\"geometry\"),\\\n",
    "                      col(\"cod_postal\"),\\\n",
    "                      col(\"codigo_act\"))\\\n",
    "                     .orderBy(rand())\\\n",
    "                     .limit(22057) #ver esto\n",
    "otros_Nacional.count()"
   ]
  },
  {
   "cell_type": "markdown",
   "id": "b348b8b9-6f49-48b6-b7b6-9d352208688e",
   "metadata": {},
   "source": [
    "Nacional = Rests_Nacional.union(otros_Nacional).orderBy(rand())\n",
    "Nacional.count()"
   ]
  },
  {
   "cell_type": "markdown",
   "id": "2d0c94e8-6d41-41ec-9242-3ca2a4227f6c",
   "metadata": {},
   "source": [
    "Nacional.createOrReplaceTempView(\"nacional\")\n",
    "Nacional.cache()"
   ]
  },
  {
   "cell_type": "markdown",
   "id": "de063c9c-96ec-4a20-80b4-51366a180c64",
   "metadata": {},
   "source": [
    "DenueGeo = spark.sql(\"\"\"SELECT *\n",
    "                            FROM nacional\n",
    "                            INNER JOIN geo_db ON nacional.clee  =  geo_db.CVEGEO\"\"\")\n",
    "DenueGeo.createOrReplaceTempView(\"DenueGeo\")\n",
    "DenueGeo.printSchema()"
   ]
  },
  {
   "cell_type": "code",
   "execution_count": 333,
   "id": "a6ccd12c-02fe-4af1-84bc-5c56d830cba2",
   "metadata": {},
   "outputs": [
    {
     "name": "stdout",
     "output_type": "stream",
     "text": [
      "root\n",
      " |-- cod_postal: string (nullable = true)\n",
      " |-- codigo_act: string (nullable = true)\n",
      " |-- avg(id): double (nullable = true)\n",
      " |-- avg(VIV0): double (nullable = true)\n",
      " |-- avg(VIV1): double (nullable = true)\n",
      " |-- avg(VIV7): double (nullable = true)\n",
      " |-- avg(VIV8): double (nullable = true)\n",
      " |-- avg(VIV9): double (nullable = true)\n",
      " |-- avg(VIV10): double (nullable = true)\n",
      " |-- avg(VIV14): double (nullable = true)\n",
      " |-- avg(VIV16): double (nullable = true)\n",
      " |-- avg(VIV25): double (nullable = true)\n",
      " |-- avg(VIV26): double (nullable = true)\n",
      " |-- avg(VIV27): double (nullable = true)\n",
      " |-- avg(VIV28): double (nullable = true)\n",
      " |-- avg(VIV29): double (nullable = true)\n",
      " |-- avg(VIV31): double (nullable = true)\n",
      " |-- avg(VIV32): double (nullable = true)\n",
      " |-- avg(VIV33): double (nullable = true)\n",
      " |-- avg(VIV34): double (nullable = true)\n",
      " |-- avg(VIV38): double (nullable = true)\n",
      " |-- avg(VIV39): double (nullable = true)\n",
      " |-- avg(VIV40): double (nullable = true)\n",
      " |-- avg(VIV41): double (nullable = true)\n",
      " |-- avg(VIV42): double (nullable = true)\n",
      " |-- avg(VIV81): double (nullable = true)\n",
      " |-- avg(VIV37_R): double (nullable = true)\n",
      " |-- avg(VIV13_R): double (nullable = true)\n",
      " |-- avg(VIV80_R): double (nullable = true)\n",
      " |-- avg(VIV81_R): double (nullable = true)\n",
      " |-- avg(VIV82_R): double (nullable = true)\n",
      " |-- avg(VIV83_R): double (nullable = true)\n",
      " |-- avg(VIV84_R): double (nullable = true)\n",
      " |-- avg(HOGAR1): double (nullable = true)\n",
      " |-- avg(HOGAR4): double (nullable = true)\n",
      " |-- avg(HOGAR7): double (nullable = true)\n",
      " |-- avg(HOGAR13): double (nullable = true)\n",
      " |-- avg(HOGAR16): double (nullable = true)\n",
      " |-- avg(HOGAR19): double (nullable = true)\n",
      " |-- avg(HOGAR22): double (nullable = true)\n",
      " |-- avg(POB11_R): double (nullable = true)\n",
      " |-- avg(POB17_R): double (nullable = true)\n",
      " |-- avg(POB42_R): double (nullable = true)\n",
      " |-- avg(POB84_R): double (nullable = true)\n",
      " |-- avg(MIG7_R): double (nullable = true)\n",
      " |-- avg(INDI1_R): double (nullable = true)\n",
      " |-- avg(DISC1_R): double (nullable = true)\n",
      " |-- avg(EDU49_R): double (nullable = true)\n",
      " |-- avg(SCONY1_R): double (nullable = true)\n",
      " |-- avg(SCONY4_R): double (nullable = true)\n",
      " |-- avg(SCONY7_R): double (nullable = true)\n",
      " |-- avg(RELIG1_R): double (nullable = true)\n",
      " |-- avg(RELIG2_R): double (nullable = true)\n",
      " |-- avg(EDU25): double (nullable = true)\n",
      " |-- avg(EDU28): double (nullable = true)\n",
      " |-- avg(SALUD1): double (nullable = true)\n",
      " |-- avg(SALUD2): double (nullable = true)\n",
      " |-- avg(SALUD7): double (nullable = true)\n",
      " |-- avg(SALUD8): double (nullable = true)\n",
      " |-- avg(ECO1_R): double (nullable = true)\n",
      " |-- avg(ECO28_R): double (nullable = true)\n",
      " |-- avg(ECO34_R): double (nullable = true)\n",
      "\n"
     ]
    }
   ],
   "source": [
    "byCP = DenueGeo.groupBy('cod_postal','codigo_act').avg()\n",
    "byCP.printSchema()"
   ]
  },
  {
   "cell_type": "code",
   "execution_count": null,
   "id": "ca258cbc-09e9-4ca9-9f44-2f4bd0e6ba74",
   "metadata": {},
   "outputs": [],
   "source": []
  }
 ],
 "metadata": {
  "kernelspec": {
   "display_name": "Python 3 (ipykernel)",
   "language": "python",
   "name": "python3"
  },
  "language_info": {
   "codemirror_mode": {
    "name": "ipython",
    "version": 3
   },
   "file_extension": ".py",
   "mimetype": "text/x-python",
   "name": "python",
   "nbconvert_exporter": "python",
   "pygments_lexer": "ipython3",
   "version": "3.8.15"
  }
 },
 "nbformat": 4,
 "nbformat_minor": 5
}
